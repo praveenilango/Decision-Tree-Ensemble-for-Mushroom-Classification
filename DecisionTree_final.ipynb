{
 "cells": [
  {
   "cell_type": "code",
   "execution_count": 1,
   "metadata": {},
   "outputs": [],
   "source": [
    "import pandas as pd\n",
    "import numpy as np\n",
    "import matplotlib.pyplot as plt\n",
    "import seaborn as sns\n",
    "from pprint import pprint\n",
    "import random"
   ]
  },
  {
   "cell_type": "code",
   "execution_count": 61,
   "metadata": {},
   "outputs": [],
   "source": [
    "def get_data():\n",
    "    print(\"Fetching Data...\")\n",
    "    train = pd.read_csv(\"./data/pa3_train.csv\")\n",
    "    val = pd.read_csv(\"./data/pa3_val.csv\")\n",
    "    test = pd.read_csv(\"./data/pa3_test.csv\")\n",
    "    return train,val,test\n",
    "\n",
    "def plot_accuracy(train_accuracy,val_accuracy,depth,x_label,title):\n",
    "    plt.figure(figsize=(10,7))\n",
    "    plt.plot(depth, train_accuracy, marker = 'o', label = \"Training Accuracy\", color = 'red')\n",
    "    plt.plot(depth, val_accuracy, marker = 'o', label = \"Validation Accuracy\", color = 'blue')\n",
    "    plt.legend(loc = 'best')\n",
    "    plt.title(title, fontsize = 20)\n",
    "    plt.xlabel(x_label, fontsize = 15)\n",
    "    plt.ylabel(\"Accuracy\\n\" + \"Max Training = \" + str(max(train_accuracy)) +\n",
    "              \"\\nMax Validation = \" + str(max(val_accuracy)), fontsize = 15)\n",
    "    plt.savefig(\"./plot/\"+title+\".png\")\n",
    "    plt.show()"
   ]
  },
  {
   "cell_type": "code",
   "execution_count": 62,
   "metadata": {},
   "outputs": [],
   "source": [
    "#train_df.iloc[:,1]\n",
    "#train.loc[0:4,:]"
   ]
  },
  {
   "cell_type": "markdown",
   "metadata": {},
   "source": [
    "# Helper Functions"
   ]
  },
  {
   "cell_type": "code",
   "execution_count": 75,
   "metadata": {},
   "outputs": [],
   "source": [
    "#Check if node is pure\n",
    "def check_pure(data):\n",
    "    label = data[:, -2]\n",
    "    #print(data)\n",
    "    unique_labels = np.unique(label)\n",
    "\n",
    "    if len(unique_labels) == 1:\n",
    "        return True\n",
    "    else:\n",
    "        return False\n",
    "    \n",
    "#Classify data based on majority class labels    \n",
    "def classify(data):\n",
    "    \"\"\"\n",
    "    Returns a class label\n",
    "    \"\"\"\n",
    "    \"\"\"\n",
    "    label = data[:, -2]\n",
    "\n",
    "    #1st array: unique values | 2nd array: count of corresponding unique values\n",
    "    unique_classes, count_unique_classes = np.unique(label, return_counts=True)\n",
    "\n",
    "\n",
    "    #get index of label with highest count\n",
    "    index = count_unique_classes.argmax()\n",
    "    classification  = unique_classes[index]\n",
    "    \"\"\"\n",
    "    label = data[:,-2]\n",
    "    weights = data[:,-1]\n",
    "    \n",
    "    zeros_index = label == 0\n",
    "    ones_index = label == 1\n",
    "    \n",
    "    zeros_weight = sum(weights[zeros_index])\n",
    "    ones_weight = sum(weights[ones_index])\n",
    "    \n",
    "    if zeros_weight > ones_weight:\n",
    "        classification = 0\n",
    "    else:\n",
    "        classification = 1\n",
    "    \n",
    "    return classification\n",
    "\n",
    "def get_potential_split(data):\n",
    "    \"\"\"\n",
    "    Returns a disctionary:\n",
    "        * KEY : feature_name\n",
    "        * VALUE: unique_values\n",
    "    \"\"\"\n",
    "    \n",
    "    #potential_splits = {cap-shape:[0,1],population:[0,1]....}\n",
    "    \n",
    "    potential_splits = {}\n",
    "    #Get number of columns\n",
    "    n_columns = data.shape[1]\n",
    "    for column_index in range(n_columns - 2):\n",
    "        potential_splits[column_index] = []\n",
    "        values = data[:,column_index]\n",
    "        unique_values = np.unique(values)\n",
    "\n",
    "        if len(unique_values) > 1:\n",
    "            potential_splits[column_index] = unique_values\n",
    "    \n",
    "    #print(potential_splits)\n",
    "    return potential_splits\n",
    "\n",
    "#Split data based of feature value\n",
    "def split_data(data, split_column, split_value = 0):\n",
    "    \n",
    "    feature_values = data[:,split_column]\n",
    "    data_below = data[feature_values == split_value]\n",
    "    data_above = data[feature_values != split_value]\n",
    "        \n",
    "    \n",
    "    return data_below, data_above\n",
    "\n",
    "\n",
    "# Gini Index\n",
    "def calculate_gini_index(data):\n",
    "\n",
    "    \"\"\"\n",
    "    # Unweighted Gini Index\n",
    "    label_column = data[:,-2]\n",
    "    counts = np.unique(label_column, return_counts=True)[1]\n",
    "    probabilities = counts/sum(counts)\n",
    "    probabilities = probabilities**2\n",
    "    gini_index = 1 - sum(probabilities)\n",
    "    \"\"\"\n",
    "    probabilities = np.zeros(2)\n",
    "    \n",
    "    \n",
    "    label = data[:,-2]\n",
    "    weights = data[:,-1]\n",
    "    weights = weights/sum(weights)\n",
    "    \n",
    "    #print(\"LABEL\", label, \"WEIGHTS\", weights)\n",
    "    zeros_index = label == 0\n",
    "    ones_index = label == 1\n",
    "    \n",
    "    zeros_weight = sum(weights[zeros_index])\n",
    "    ones_weight = sum(weights[ones_index])\n",
    "    \n",
    "    #print(zeros_weight,ones_weight)\n",
    "    \n",
    "    probabilities[0] = zeros_weight\n",
    "    probabilities[1] = ones_weight\n",
    "    probabilities = probabilities**2\n",
    "    gini_index = 1 - sum(probabilities)\n",
    "    \n",
    "    \n",
    "    return gini_index\n",
    "\n",
    "def calculate_overall_gini_index(data_below, data_above):\n",
    "\n",
    "\n",
    "    n = len(data_above) + len(data_below)\n",
    "    p_data_above = len(data_above)/n\n",
    "    p_data_below = len(data_below)/n\n",
    "    \n",
    "    overall_gini_index = ((p_data_above * calculate_gini_index(data_above)) \n",
    "                            + (p_data_below * calculate_gini_index(data_below)))\n",
    "    \n",
    "    return overall_gini_index\n",
    "\n",
    "def find_best_split(data, potential_splits):\n",
    "    \n",
    "    #In case there is no potential splits for small m values\n",
    "    best_split_column = 7777\n",
    "    \n",
    "    benifit_of_split = 0\n",
    "    for column_index in potential_splits:\n",
    "        #print(column_index,potential_splits[column_index][0])\n",
    "        if len(potential_splits[column_index]) > 0 :\n",
    "            #print(potential_splits[column_index][0])\n",
    "            value = 0\n",
    "            data_below, data_above = split_data(data, split_column=column_index, split_value=value)\n",
    "            current_overall_child_gini_index = calculate_overall_gini_index(data_below, data_above)\n",
    "            current_overall_parent_gini_index = calculate_gini_index(data)\n",
    "            current_benefit = current_overall_parent_gini_index - current_overall_child_gini_index\n",
    "\n",
    "            #print(current_benefit, benifit_of_split)\n",
    "            if current_benefit >= benifit_of_split:\n",
    "                benifit_of_split = current_benefit\n",
    "                best_split_column = column_index\n",
    "    \n",
    "    return best_split_column\n",
    "\n"
   ]
  },
  {
   "cell_type": "markdown",
   "metadata": {},
   "source": [
    "# Classify using Tree"
   ]
  },
  {
   "cell_type": "code",
   "execution_count": 76,
   "metadata": {},
   "outputs": [],
   "source": [
    "def classify_example(example, tree):\n",
    "    \n",
    "    #print(tree)\n",
    "    question = list(tree.keys())[0]\n",
    "    feature_name, comparison_operator, value = question.split(\" \")\n",
    "\n",
    "    if str(example[feature_name]) == value:\n",
    "        answer = tree[question][0]\n",
    "    else:\n",
    "        answer = tree[question][1]\n",
    "\n",
    "    #Base case\n",
    "    if not isinstance(answer,dict):\n",
    "        return answer\n",
    "\n",
    "    #Recursive case\n",
    "    else:\n",
    "        residual_tree = answer\n",
    "        return classify_example(example,residual_tree)\n",
    "    \n",
    "def calculate_accuracy(df, tree):\n",
    "        \n",
    "    prediction = df.apply(classify_example, args=(tree,), axis=1)\n",
    "    accuracy_bool = prediction == df[\"class\"].values\n",
    "    \n",
    "    return np.mean(accuracy_bool)"
   ]
  },
  {
   "cell_type": "markdown",
   "metadata": {},
   "source": [
    "## Tree Algorithm"
   ]
  },
  {
   "cell_type": "code",
   "execution_count": 77,
   "metadata": {},
   "outputs": [],
   "source": [
    "def decision_tree_algo(df, max_depth, D, current_depth = 0):\n",
    "    \n",
    "    \n",
    "    #Set data to 2-D array in the first iteration\n",
    "    if current_depth == 0:\n",
    "        global COLUMN_HEADERS\n",
    "        COLUMN_HEADERS = df.columns\n",
    "        df[\"weights\"] = D\n",
    "        data = df.values\n",
    "    else:\n",
    "        data = df\n",
    "    \n",
    "    #Base case - When node is pure\n",
    "    if(check_pure(data) or current_depth>= max_depth):\n",
    "        classification = classify(data)\n",
    "        return classification\n",
    "        \n",
    "    #Recursive part - when node is not pure\n",
    "    else:\n",
    "        current_depth += 1\n",
    "        \n",
    "        #helper functions\n",
    "        potential_splits = get_potential_split(data)\n",
    "        split_column = find_best_split(data, potential_splits)\n",
    "        \n",
    "        #If no split exists, then classify data:\n",
    "        if split_column == 7777:\n",
    "            classification = classify(data)\n",
    "            return classification\n",
    "        \n",
    "        data_below, data_above = split_data(data, split_column=split_column, split_value=0)\n",
    "        \n",
    "        #instanciate subtree\n",
    "        feature_name = COLUMN_HEADERS[split_column]\n",
    "        question = \"{} = 0\".format(feature_name)\n",
    "        sub_tree = {question: []}\n",
    "            \n",
    "        \n",
    "        #find answer(Recursion)\n",
    "        yes_answer = decision_tree_algo(data_below, max_depth, D, current_depth)\n",
    "        no_answer = decision_tree_algo(data_above, max_depth, D, current_depth)\n",
    "\n",
    "        \"\"\"\n",
    "        if yes_answer == no_answer:\n",
    "            sub_tree = yes_answer\n",
    "        else:\n",
    "        \"\"\"\n",
    "        sub_tree[question].append(yes_answer) \n",
    "        sub_tree[question].append(no_answer)\n",
    "\n",
    "        return sub_tree\n",
    "    "
   ]
  },
  {
   "cell_type": "code",
   "execution_count": 66,
   "metadata": {},
   "outputs": [
    {
     "name": "stdout",
     "output_type": "stream",
     "text": [
      "Fetching Data...\n"
     ]
    }
   ],
   "source": [
    "train_df,val_df,test_df = get_data()\n",
    "data = train_df.values"
   ]
  },
  {
   "cell_type": "markdown",
   "metadata": {},
   "source": [
    "# Part 1\n",
    "*Grow Trees with depth [1,2,3,4,5,6,7,8]*"
   ]
  },
  {
   "cell_type": "code",
   "execution_count": 67,
   "metadata": {},
   "outputs": [],
   "source": [
    "def get_best_tree(max_depth):\n",
    "    \n",
    "    acc = 0\n",
    "    best_tree = {}\n",
    "    depth = list(range(1,max_depth+1))\n",
    "    train_accuracy = []\n",
    "    val_accuracy = []\n",
    "    D = np.array([1/len(train_df)]*len(train_df))\n",
    "    for i in depth:\n",
    "        print(f\"Running Depth = {i}\")\n",
    "        tree = decision_tree_algo(train_df, max_depth=i, D=D)\n",
    "        train_df.drop(columns=\"weights\", inplace=True)\n",
    "        train_accuracy.append(calculate_accuracy(train_df,tree))\n",
    "        val_accuracy.append(calculate_accuracy(val_df,tree))\n",
    "        \n",
    "        if val_accuracy[i-1] > acc:\n",
    "            best_tree = tree\n",
    "            best_depth = i\n",
    "            acc = val_accuracy[i-1]\n",
    "    \n",
    "    plot_accuracy(train_accuracy,val_accuracy,depth,x_label=\"Depth\",title=\"Accuracy Vs Depth\")\n",
    "    \n",
    "    print(\"Train_Accuracy\")\n",
    "    print(train_accuracy)\n",
    "    print(\"Validation_Accuracy\")\n",
    "    print(val_accuracy)\n",
    "    \n",
    "    return best_tree, best_depth"
   ]
  },
  {
   "cell_type": "markdown",
   "metadata": {},
   "source": [
    "### 1a)"
   ]
  },
  {
   "cell_type": "code",
   "execution_count": 68,
   "metadata": {},
   "outputs": [
    {
     "name": "stdout",
     "output_type": "stream",
     "text": [
      "------------------------------------1b---------------------------------------\n",
      "Tree with depth 2\n",
      "{'odor_n = 0': [{'stalk-root_c = 0': [1, 0]}, {'spore-print-color_r = 0': [0, 1]}]}\n"
     ]
    }
   ],
   "source": [
    "print(\"------------------------------------1b---------------------------------------\")\n",
    "print(\"Tree with depth 2\")\n",
    "D = np.array([1/len(train_df)]*len(train_df))\n",
    "tree = decision_tree_algo(train_df,max_depth=2,D=D)\n",
    "print(tree)"
   ]
  },
  {
   "cell_type": "markdown",
   "metadata": {},
   "source": [
    "### 1b)"
   ]
  },
  {
   "cell_type": "code",
   "execution_count": 69,
   "metadata": {},
   "outputs": [
    {
     "name": "stdout",
     "output_type": "stream",
     "text": [
      "------------------------------------1c---------------------------------------\n",
      "Running Depth = 1\n",
      "Running Depth = 2\n",
      "Running Depth = 3\n",
      "Running Depth = 4\n",
      "Running Depth = 5\n",
      "Running Depth = 6\n",
      "Running Depth = 7\n",
      "Running Depth = 8\n"
     ]
    },
    {
     "data": {
      "image/png": "[encoded data removed]",
      "text/plain": [
       "<matplotlib.figure.Figure at 0x1a25598a20>"
      ]
     },
     "metadata": {},
     "output_type": "display_data"
    },
    {
     "name": "stdout",
     "output_type": "stream",
     "text": [
      "Train_Accuracy\n",
      "[0.8816167418957734, 0.9532211735740664, 0.9848173984407058, 0.9938448912597456, 0.9967172753385309, 1.0, 1.0, 1.0]\n",
      "Validation_Accuracy\n",
      "[0.8966153846153846, 0.9649230769230769, 0.9895384615384616, 0.9963076923076923, 0.9981538461538462, 1.0, 1.0, 1.0]\n"
     ]
    }
   ],
   "source": [
    "print(\"------------------------------------1c---------------------------------------\")\n",
    "best_tree, best_depth = get_best_tree(8)\n",
    "#best_tree"
   ]
  },
  {
   "cell_type": "markdown",
   "metadata": {},
   "source": [
    "# PART 2"
   ]
  },
  {
   "cell_type": "markdown",
   "metadata": {},
   "source": [
    "# Random Forest"
   ]
  },
  {
   "cell_type": "code",
   "execution_count": 70,
   "metadata": {},
   "outputs": [],
   "source": [
    "def random_forest(df, n, m, d):\n",
    "    \"\"\"\n",
    "    n: #trees in the forest\n",
    "    m: #features for a tree\n",
    "    d: max depth of the tree in the forest\n",
    "    \"\"\"\n",
    "    forest = []\n",
    "    tree_counter = 0\n",
    "    \n",
    "    #Get #rows and #columns\n",
    "    df_rows = df.shape[0]\n",
    "    df_columns = df.shape[1]\n",
    "    \n",
    "    D = np.array([1/len(train_df)]*len(train_df))\n",
    "    \n",
    "    #random.seed(534)\n",
    "    while tree_counter < n:\n",
    "        \n",
    "        #sampling data points with replacement\n",
    "        df_sample_ids = random.choices(list(range(df_rows)), k=df_rows)\n",
    "\n",
    "        #sampling features without replacements\n",
    "        feature_sample_ids = random.sample(list(range(df_columns - 1)), m)\n",
    "        ##Adding \"class\" back to the feature subset\n",
    "        feature_sample_ids.append(df_columns - 1)\n",
    "\n",
    "        #New sample df [sampled datapoints and features]\n",
    "        sample_df = df.iloc[df_sample_ids,feature_sample_ids]\n",
    "\n",
    "        tree = decision_tree_algo(sample_df, max_depth=d, D=D)\n",
    "        sample_df.drop(columns=\"weights\", inplace=True)\n",
    "        \n",
    "        #check if tree is valid\n",
    "        if isinstance(tree, dict):\n",
    "            forest.append(tree)\n",
    "            tree_counter += 1\n",
    "            \n",
    "    \n",
    "    return forest\n",
    "\n",
    "def forest_accuracy(df, forest):\n",
    "    \n",
    "    prediction = pd.DataFrame()\n",
    "    for i in range(len(forest)):\n",
    "        \n",
    "        tree = forest[i]\n",
    "        #Prediction using a tree in the forest\n",
    "        prediction[i] = (df.apply(classify_example, args=(tree,), axis=1))\n",
    "\n",
    "    #Calculate number of zeros voted amongst all trees        \n",
    "    no_columns = prediction.shape[1]\n",
    "    number_of_zeros = no_columns - prediction.apply(sum, axis=1)\n",
    "    \n",
    "    #Check majority vote: Predict 1 if Pr(0) < 0.5 or Number of zeros is less than half the total population\n",
    "    final_prediction = (number_of_zeros < (no_columns/2)).astype(int)\n",
    "    accuracy_bool = final_prediction == df[\"class\"].values\n",
    "    \n",
    "    return np.mean(accuracy_bool)\n",
    "    #return prediction, number_of_zeros, final_prediction"
   ]
  },
  {
   "cell_type": "code",
   "execution_count": 71,
   "metadata": {},
   "outputs": [],
   "source": [
    "#my_forest = random_forest(train_df, n=10, m=10, d=3)"
   ]
  },
  {
   "cell_type": "code",
   "execution_count": 72,
   "metadata": {},
   "outputs": [],
   "source": [
    "#forest_accuracy(val_df, my_forest)"
   ]
  },
  {
   "cell_type": "markdown",
   "metadata": {},
   "source": [
    "### 2b)"
   ]
  },
  {
   "cell_type": "code",
   "execution_count": 78,
   "metadata": {},
   "outputs": [],
   "source": [
    "def part_2b(no_of_trees):\n",
    "    \n",
    "    acc = 0\n",
    "    train_accuracy = []\n",
    "    val_accuracy = []\n",
    "    \n",
    "    for i in range(len(no_of_trees)):\n",
    "        print(f\"Running n = {no_of_trees[i]}\")\n",
    "        n = no_of_trees[i]\n",
    "        my_forest = random_forest(train_df, n=n, m=5, d=2)\n",
    "        train_accuracy.append(forest_accuracy(train_df, my_forest))\n",
    "        val_accuracy.append(forest_accuracy(val_df, my_forest))\n",
    "        \n",
    "        if val_accuracy[i] > acc:\n",
    "            best_n = n\n",
    "            acc = val_accuracy[i]\n",
    "    \n",
    "    #x_axis = list(range(1,len(no_of_trees) + 1))\n",
    "    plot_accuracy(train_accuracy,val_accuracy,no_of_trees,x_label=\"#Trees\", title=\"2b\")\n",
    "    \n",
    "    print(\"Train_Accuracy\")\n",
    "    print(train_accuracy)\n",
    "    print(\"Validation_Accuracy\")\n",
    "    print(val_accuracy)\n",
    "    \n",
    "    return best_n"
   ]
  },
  {
   "cell_type": "code",
   "execution_count": null,
   "metadata": {},
   "outputs": [
    {
     "name": "stdout",
     "output_type": "stream",
     "text": [
      "------------------------------------2b---------------------------------------\n",
      "Running n = 1\n",
      "Running n = 2\n",
      "Running n = 5\n",
      "Running n = 10\n"
     ]
    }
   ],
   "source": [
    "print(\"------------------------------------2b---------------------------------------\")\n",
    "n = [1,2,5,10,25]\n",
    "part_2b(n)"
   ]
  },
  {
   "cell_type": "markdown",
   "metadata": {},
   "source": [
    "### 2d)"
   ]
  },
  {
   "cell_type": "code",
   "execution_count": 13,
   "metadata": {},
   "outputs": [],
   "source": [
    "def part_2d(no_of_features):\n",
    "    \n",
    "    acc = 0\n",
    "    train_accuracy = []\n",
    "    val_accuracy = []\n",
    "    \n",
    "    for i in range(len(no_of_features)):\n",
    "        print(f\"Running m = {no_of_features[i]}\")\n",
    "        m = no_of_features[i]\n",
    "        my_forest = random_forest(train_df, n=15, m=m, d=2)\n",
    "        train_accuracy.append(forest_accuracy(train_df, my_forest))\n",
    "        val_accuracy.append(forest_accuracy(val_df, my_forest))\n",
    "        \n",
    "        if val_accuracy[i] > acc:\n",
    "            best_m = m\n",
    "            acc = val_accuracy[i]\n",
    "    \n",
    "    #x_axis = list(range(1,len(no_of_trees) + 1))\n",
    "    plot_accuracy(train_accuracy,val_accuracy,no_of_features,x_label=\"#Features\", title=\"2d\")\n",
    "    \n",
    "    print(\"Train_Accurac\")\n",
    "    print(train_accuracy)\n",
    "    print(\"Validation_Accuracy\")\n",
    "    print(val_accuracy)\n",
    "    \n",
    "    \n",
    "    return best_m"
   ]
  },
  {
   "cell_type": "code",
   "execution_count": 32,
   "metadata": {},
   "outputs": [
    {
     "name": "stdout",
     "output_type": "stream",
     "text": [
      "------------------------------------2d---------------------------------------\n",
      "Running m = 1\n",
      "Running m = 2\n",
      "Running m = 5\n",
      "Running m = 10\n",
      "Running m = 25\n"
     ]
    },
    {
     "data": {
      "image/png": "[encoded data removed]",
      "text/plain": [
       "<matplotlib.figure.Figure at 0x1a15cf7588>"
      ]
     },
     "metadata": {},
     "output_type": "display_data"
    },
    {
     "name": "stdout",
     "output_type": "stream",
     "text": [
      "Train_Accurac\n",
      "[0.7812884694296266, 0.6934755847353303, 0.8063192449733279, 0.886540828887977, 0.9485022568732048]\n",
      "Validation_Accuracy\n",
      "[0.7864615384615384, 0.6886153846153846, 0.8086153846153846, 0.9009230769230769, 0.9587692307692308]\n"
     ]
    },
    {
     "data": {
      "text/plain": [
       "25"
      ]
     },
     "execution_count": 32,
     "metadata": {},
     "output_type": "execute_result"
    }
   ],
   "source": [
    "print(\"------------------------------------2d---------------------------------------\")\n",
    "m = [1,2,5,10,25]\n",
    "part_2d(m)"
   ]
  },
  {
   "cell_type": "code",
   "execution_count": 14,
   "metadata": {},
   "outputs": [],
   "source": [
    "def part2e():\n",
    "    acc = 0\n",
    "    train_accuracy = []\n",
    "    val_accuracy = []\n",
    "    run = list(range(1,11))\n",
    "    \n",
    "    for i in range(0,10):\n",
    "        print(f\"Running Run no = {i+1}\")\n",
    "        my_forest = random_forest(train_df, n=15, m=25, d=2)\n",
    "        train_accuracy.append(forest_accuracy(train_df, my_forest))\n",
    "        val_accuracy.append(forest_accuracy(val_df, my_forest))\n",
    "        \n",
    "        if val_accuracy[i] > acc:\n",
    "            best_acc = val_accuracy[i]\n",
    "            acc = val_accuracy[i]\n",
    "    \n",
    "    #x_axis = list(range(1,len(no_of_trees) + 1))\n",
    "    plot_accuracy(train_accuracy,val_accuracy,run,x_label=\"iteration\", title=\"2e [n = 15 & m = 25]\")\n",
    "    \n",
    "    print(\"Train_Accuracy\")\n",
    "    print(train_accuracy)\n",
    "    print(\"Validation_Accuracy\")\n",
    "    print(val_accuracy)\n",
    "    \n",
    "    return best_acc"
   ]
  },
  {
   "cell_type": "code",
   "execution_count": 33,
   "metadata": {},
   "outputs": [
    {
     "name": "stdout",
     "output_type": "stream",
     "text": [
      "------------------------------------2e---------------------------------------\n",
      "Running Run no = 1\n",
      "Running Run no = 2\n",
      "Running Run no = 3\n",
      "Running Run no = 4\n",
      "Running Run no = 5\n",
      "Running Run no = 6\n",
      "Running Run no = 7\n",
      "Running Run no = 8\n",
      "Running Run no = 9\n",
      "Running Run no = 10\n"
     ]
    },
    {
     "data": {
      "image/png": "[encoded data removed]",
      "text/plain": [
       "<matplotlib.figure.Figure at 0x1a15b00780>"
      ]
     },
     "metadata": {},
     "output_type": "display_data"
    },
    {
     "name": "stdout",
     "output_type": "stream",
     "text": [
      "Train_Accuracy\n",
      "[0.884283955683217, 0.9318834632745179, 0.932909314731227, 0.939474764054165, 0.9837915469839967, 0.9597866228970046, 0.9033647927780057, 0.9027492819039803, 0.9400902749281904, 0.9556832170701682]\n",
      "Validation_Accuracy\n",
      "[0.8929230769230769, 0.9433846153846154, 0.9452307692307692, 0.9495384615384616, 0.9901538461538462, 0.9618461538461538, 0.912, 0.9138461538461539, 0.9396923076923077, 0.9723076923076923]\n"
     ]
    },
    {
     "data": {
      "text/plain": [
       "0.9901538461538462"
      ]
     },
     "execution_count": 33,
     "metadata": {},
     "output_type": "execute_result"
    }
   ],
   "source": [
    "print(\"------------------------------------2e---------------------------------------\")\n",
    "\n",
    "part2e()"
   ]
  },
  {
   "cell_type": "markdown",
   "metadata": {},
   "source": [
    "# PART 3"
   ]
  },
  {
   "cell_type": "code",
   "execution_count": 59,
   "metadata": {},
   "outputs": [],
   "source": [
    "def ada_boost(base_learners,depth=1):\n",
    "    \n",
    "    #acc = 0\n",
    "    tree_counter = 0\n",
    "    best_tree = {}\n",
    "    L = list(range(1,base_learners+1))\n",
    "    D = np.array([1/len(train_df)]*len(train_df))\n",
    "    \n",
    "    train_accuracy = []\n",
    "    val_accuracy = []\n",
    "    a = []\n",
    "    forest = []\n",
    "    \n",
    "    while tree_counter < base_learners:\n",
    "        #print(sum(D))\n",
    "        #print(f\"base learner no:  {tree_counter + 1}\")\n",
    "        tree = decision_tree_algo(train_df, max_depth=depth, D=D)\n",
    "\n",
    "        \n",
    "        if not isinstance(tree, dict):\n",
    "            D = train_df[\"weights\"] + 0.025\n",
    "            train_df[\"weights\"] = D/sum(D)\n",
    "            D = train_df[\"weights\"]\n",
    "            print(\"XX\")\n",
    "        #print(tree)\n",
    "        \n",
    "    \n",
    "        if isinstance(tree, dict):\n",
    "            \n",
    "            tree_counter += 1\n",
    "\n",
    "            prediction = train_df.drop(columns=\"weights\").apply(classify_example, args=(tree,), axis=1)\n",
    "            D = train_df[\"weights\"]\n",
    "            #weighted error\n",
    "            w_error = sum(D[prediction != train_df[\"class\"]])\n",
    "            #print(w_error)\n",
    "            #print(np.unique(D,return_counts=True))\n",
    "            alpha = (1/2)*np.log2((1-w_error)/w_error)\n",
    "            a.append(alpha)\n",
    "            forest.append(tree)\n",
    "\n",
    "            #update weights\n",
    "            train_df.loc[prediction != train_df[\"class\"],\"weights\"] = train_df.loc[prediction != train_df[\"class\"],\"weights\"] * np.exp(alpha)\n",
    "            train_df.loc[prediction == train_df[\"class\"],\"weights\"] = train_df.loc[prediction == train_df[\"class\"],\"weights\"] * np.exp(-alpha)\n",
    "\n",
    "            #normalize weights\n",
    "            D = train_df[\"weights\"]\n",
    "            train_df[\"weights\"] = D/sum(D)\n",
    "            D = train_df[\"weights\"]\n",
    "    \n",
    "    train_df.drop(columns=\"weights\", inplace=True)\n",
    "    \n",
    "    return forest, a"
   ]
  },
  {
   "cell_type": "code",
   "execution_count": 53,
   "metadata": {},
   "outputs": [],
   "source": [
    "def boost_accuracy(df, alpha, forest):\n",
    "    \n",
    "    prediction = pd.DataFrame()\n",
    "    for i in range(len(forest)):\n",
    "        \n",
    "        tree = forest[i]\n",
    "        #Prediction using a tree in the forest\n",
    "        prediction[i] = (df.apply(classify_example, args=(tree,), axis=1))\n",
    "\n",
    "    #Calculate number of zeros voted amongst all trees        \n",
    "    no_columns = prediction.shape[1]\n",
    "    prediction[prediction==0] = -1\n",
    "    prediction[\"aggregated_weights\"] = np.dot(prediction,alpha)\n",
    "    final_prediction = (prediction[\"aggregated_weights\"] >= 0).astype(int)\n",
    "    #prediction[\"prediction\"] = final_prediction\n",
    "    \n",
    "    accuracy_bool = final_prediction == df[\"class\"].values\n",
    "    \n",
    "    return np.mean(accuracy_bool)"
   ]
  },
  {
   "cell_type": "code",
   "execution_count": 55,
   "metadata": {},
   "outputs": [
    {
     "ename": "NameError",
     "evalue": "name 'f' is not defined",
     "output_type": "error",
     "traceback": [
      "\u001b[0;31m---------------------------------------------------------------------------\u001b[0m",
      "\u001b[0;31mNameError\u001b[0m                                 Traceback (most recent call last)",
      "\u001b[0;32m<ipython-input-55-7dc1f0e90f23>\u001b[0m in \u001b[0;36m<module>\u001b[0;34m()\u001b[0m\n\u001b[0;32m----> 1\u001b[0;31m \u001b[0mf\u001b[0m\u001b[0;31m#ores, alph = ada_boost(15,1)\u001b[0m\u001b[0;34m\u001b[0m\u001b[0m\n\u001b[0m",
      "\u001b[0;31mNameError\u001b[0m: name 'f' is not defined"
     ]
    }
   ],
   "source": [
    "fores, alph = ada_boost(15,1)"
   ]
  },
  {
   "cell_type": "code",
   "execution_count": 51,
   "metadata": {},
   "outputs": [
    {
     "data": {
      "text/plain": [
       "[{'odor_n = 0': [1, 0]},\n",
       " {'stalk-surface-above-ring_k = 0': [0, 1]},\n",
       " {'stalk-root_c = 0': [1, 0]},\n",
       " {'odor_f = 0': [0, 1]},\n",
       " {'population_y = 0': [1, 0]},\n",
       " {'odor_f = 0': [0, 1]},\n",
       " {'odor_f = 0': [1, 1]},\n",
       " {'odor_f = 0': [0, 1]},\n",
       " {'odor_f = 0': [1, 1]},\n",
       " {'odor_f = 0': [0, 1]},\n",
       " {'odor_f = 0': [1, 1]},\n",
       " {'odor_f = 0': [0, 1]},\n",
       " {'odor_f = 0': [1, 1]},\n",
       " {'odor_f = 0': [0, 1]},\n",
       " {'odor_f = 0': [1, 1]}]"
      ]
     },
     "execution_count": 51,
     "metadata": {},
     "output_type": "execute_result"
    }
   ],
   "source": [
    "fores"
   ]
  },
  {
   "cell_type": "code",
   "execution_count": 57,
   "metadata": {},
   "outputs": [],
   "source": [
    "def part_3c(no_of_learners):\n",
    "    \n",
    "    acc = 0\n",
    "    train_accuracy = []\n",
    "    val_accuracy = []\n",
    "    #train_df.drop(columns=\"veil-type_p\", inplace = True)\n",
    "    for i in range(len(no_of_learners)):\n",
    "        print(f\"Running no of learners = {no_of_learners[i]}\")\n",
    "        m = no_of_learners[i]\n",
    "        my_forest, alpha = ada_boost(m, depth = 1)\n",
    "        train_accuracy.append(boost_accuracy(train_df, alpha, my_forest))\n",
    "        val_accuracy.append(boost_accuracy(val_df, alpha, my_forest))\n",
    "        \n",
    "        if val_accuracy[i] > acc:\n",
    "            best_no_learners = m\n",
    "            acc = val_accuracy[i]\n",
    "    \n",
    "    #x_axis = list(range(1,len(no_of_trees) + 1))\n",
    "    plot_accuracy(train_accuracy,val_accuracy,no_of_learners,x_label=\"#learners\", title=\"3\")\n",
    "    print(\"Train_Accuracy\")\n",
    "    print(train_accuracy)\n",
    "    print(\"Validation_Accuracy\")\n",
    "    print(val_accuracy)\n",
    "    \n",
    "    \n",
    "    return best_no_learners"
   ]
  },
  {
   "cell_type": "code",
   "execution_count": null,
   "metadata": {},
   "outputs": [],
   "source": []
  },
  {
   "cell_type": "code",
   "execution_count": 60,
   "metadata": {},
   "outputs": [
    {
     "name": "stdout",
     "output_type": "stream",
     "text": [
      "------------------------------------3c---------------------------------------\n",
      "Running no of learners = 1\n",
      "Running no of learners = 2\n",
      "Running no of learners = 5\n",
      "Running no of learners = 10\n",
      "Running no of learners = 15\n"
     ]
    },
    {
     "data": {
      "image/png": "[encoded data removed]",
      "text/plain": [
       "<matplotlib.figure.Figure at 0x1a24cebe80>"
      ]
     },
     "metadata": {},
     "output_type": "display_data"
    },
    {
     "name": "stdout",
     "output_type": "stream",
     "text": [
      "Train_Accuracy\n",
      "[0.8816167418957734, 0.8816167418957734, 0.948297086581863, 0.948297086581863, 0.948297086581863]\n",
      "Validation_Accuracy\n",
      "[0.8966153846153846, 0.8966153846153846, 0.9532307692307692, 0.9532307692307692, 0.9532307692307692]\n"
     ]
    },
    {
     "data": {
      "text/plain": [
       "5"
      ]
     },
     "execution_count": 60,
     "metadata": {},
     "output_type": "execute_result"
    }
   ],
   "source": [
    "print(\"------------------------------------3c---------------------------------------\")\n",
    "l = [1,2,5,10,15]\n",
    "part_3c(l)"
   ]
  },
  {
   "cell_type": "code",
   "execution_count": 46,
   "metadata": {},
   "outputs": [
    {
     "name": "stdout",
     "output_type": "stream",
     "text": [
      "------------------------------------3e---------------------------------------\n"
     ]
    }
   ],
   "source": [
    "print(\"------------------------------------3e---------------------------------------\")\n",
    "forest3e, alpha3e = ada_boost(6,depth = 2)"
   ]
  },
  {
   "cell_type": "code",
   "execution_count": 46,
   "metadata": {},
   "outputs": [
    {
     "data": {
      "text/plain": [
       "[1.4483432765642212,\n",
       " 1.2774216842035317,\n",
       " 1.138113699828624,\n",
       " 0.6439707167330296,\n",
       " 0.6911728002983648,\n",
       " 0.520679919759589]"
      ]
     },
     "execution_count": 46,
     "metadata": {},
     "output_type": "execute_result"
    }
   ],
   "source": [
    "alpha3e"
   ]
  },
  {
   "cell_type": "code",
   "execution_count": 47,
   "metadata": {},
   "outputs": [
    {
     "name": "stdout",
     "output_type": "stream",
     "text": [
      "L = 6 | depth = 2\n",
      "Train accuracy = 0.9942552318424293\n",
      "Val accuracy =  0.9956923076923077\n"
     ]
    }
   ],
   "source": [
    "print(\"L = 6 | depth = 2\")\n",
    "print(\"Train accuracy =\",boost_accuracy(train_df, alpha3e, forest3e))\n",
    "print(\"Val accuracy = \",boost_accuracy(val_df, alpha3e, forest3e))"
   ]
  },
  {
   "cell_type": "code",
   "execution_count": null,
   "metadata": {},
   "outputs": [],
   "source": [
    "train_df.head()"
   ]
  },
  {
   "cell_type": "code",
   "execution_count": 88,
   "metadata": {},
   "outputs": [],
   "source": [
    "D = np.array([1/len(train_df)]*len(train_df))\n",
    "tree1 = decision_tree_algo(train_df,max_depth=6,D=D)\n",
    "train_df.drop(columns=\"weights\", inplace=True)\n",
    "prediction1 = test_df.apply(classify_example, args=(tree1,), axis=1)\n",
    "#prediction1"
   ]
  },
  {
   "cell_type": "code",
   "execution_count": 106,
   "metadata": {},
   "outputs": [],
   "source": [
    "np.savetxt(\"./pa3test3.csv\", prediction1.astype(int), delimiter=\",\")"
   ]
  },
  {
   "cell_type": "code",
   "execution_count": 70,
   "metadata": {},
   "outputs": [
    {
     "data": {
      "text/html": [
       "<div>\n",
       "<style scoped>\n",
       "    .dataframe tbody tr th:only-of-type {\n",
       "        vertical-align: middle;\n",
       "    }\n",
       "\n",
       "    .dataframe tbody tr th {\n",
       "        vertical-align: top;\n",
       "    }\n",
       "\n",
       "    .dataframe thead th {\n",
       "        text-align: right;\n",
       "    }\n",
       "</style>\n",
       "<table border=\"1\" class=\"dataframe\">\n",
       "  <thead>\n",
       "    <tr style=\"text-align: right;\">\n",
       "      <th></th>\n",
       "      <th>cap-shape_b</th>\n",
       "      <th>cap-shape_c</th>\n",
       "      <th>cap-shape_f</th>\n",
       "      <th>cap-shape_k</th>\n",
       "      <th>cap-shape_s</th>\n",
       "      <th>cap-shape_x</th>\n",
       "      <th>cap-surface_f</th>\n",
       "      <th>cap-surface_g</th>\n",
       "      <th>cap-surface_s</th>\n",
       "      <th>cap-surface_y</th>\n",
       "      <th>...</th>\n",
       "      <th>population_v</th>\n",
       "      <th>population_y</th>\n",
       "      <th>habitat_d</th>\n",
       "      <th>habitat_g</th>\n",
       "      <th>habitat_l</th>\n",
       "      <th>habitat_m</th>\n",
       "      <th>habitat_p</th>\n",
       "      <th>habitat_u</th>\n",
       "      <th>habitat_w</th>\n",
       "      <th>class</th>\n",
       "    </tr>\n",
       "  </thead>\n",
       "  <tbody>\n",
       "    <tr>\n",
       "      <th>0</th>\n",
       "      <td>0</td>\n",
       "      <td>0</td>\n",
       "      <td>0</td>\n",
       "      <td>0</td>\n",
       "      <td>0</td>\n",
       "      <td>1</td>\n",
       "      <td>1</td>\n",
       "      <td>0</td>\n",
       "      <td>0</td>\n",
       "      <td>0</td>\n",
       "      <td>...</td>\n",
       "      <td>0</td>\n",
       "      <td>0</td>\n",
       "      <td>1</td>\n",
       "      <td>0</td>\n",
       "      <td>0</td>\n",
       "      <td>0</td>\n",
       "      <td>0</td>\n",
       "      <td>0</td>\n",
       "      <td>0</td>\n",
       "      <td>1</td>\n",
       "    </tr>\n",
       "    <tr>\n",
       "      <th>1</th>\n",
       "      <td>0</td>\n",
       "      <td>0</td>\n",
       "      <td>1</td>\n",
       "      <td>0</td>\n",
       "      <td>0</td>\n",
       "      <td>0</td>\n",
       "      <td>0</td>\n",
       "      <td>0</td>\n",
       "      <td>1</td>\n",
       "      <td>0</td>\n",
       "      <td>...</td>\n",
       "      <td>1</td>\n",
       "      <td>0</td>\n",
       "      <td>0</td>\n",
       "      <td>0</td>\n",
       "      <td>1</td>\n",
       "      <td>0</td>\n",
       "      <td>0</td>\n",
       "      <td>0</td>\n",
       "      <td>0</td>\n",
       "      <td>0</td>\n",
       "    </tr>\n",
       "    <tr>\n",
       "      <th>2</th>\n",
       "      <td>0</td>\n",
       "      <td>0</td>\n",
       "      <td>0</td>\n",
       "      <td>0</td>\n",
       "      <td>0</td>\n",
       "      <td>1</td>\n",
       "      <td>1</td>\n",
       "      <td>0</td>\n",
       "      <td>0</td>\n",
       "      <td>0</td>\n",
       "      <td>...</td>\n",
       "      <td>0</td>\n",
       "      <td>0</td>\n",
       "      <td>0</td>\n",
       "      <td>1</td>\n",
       "      <td>0</td>\n",
       "      <td>0</td>\n",
       "      <td>0</td>\n",
       "      <td>0</td>\n",
       "      <td>0</td>\n",
       "      <td>0</td>\n",
       "    </tr>\n",
       "    <tr>\n",
       "      <th>3</th>\n",
       "      <td>0</td>\n",
       "      <td>0</td>\n",
       "      <td>1</td>\n",
       "      <td>0</td>\n",
       "      <td>0</td>\n",
       "      <td>0</td>\n",
       "      <td>0</td>\n",
       "      <td>0</td>\n",
       "      <td>0</td>\n",
       "      <td>1</td>\n",
       "      <td>...</td>\n",
       "      <td>0</td>\n",
       "      <td>1</td>\n",
       "      <td>1</td>\n",
       "      <td>0</td>\n",
       "      <td>0</td>\n",
       "      <td>0</td>\n",
       "      <td>0</td>\n",
       "      <td>0</td>\n",
       "      <td>0</td>\n",
       "      <td>0</td>\n",
       "    </tr>\n",
       "    <tr>\n",
       "      <th>4</th>\n",
       "      <td>0</td>\n",
       "      <td>0</td>\n",
       "      <td>0</td>\n",
       "      <td>0</td>\n",
       "      <td>0</td>\n",
       "      <td>1</td>\n",
       "      <td>0</td>\n",
       "      <td>0</td>\n",
       "      <td>0</td>\n",
       "      <td>1</td>\n",
       "      <td>...</td>\n",
       "      <td>0</td>\n",
       "      <td>0</td>\n",
       "      <td>0</td>\n",
       "      <td>0</td>\n",
       "      <td>0</td>\n",
       "      <td>1</td>\n",
       "      <td>0</td>\n",
       "      <td>0</td>\n",
       "      <td>0</td>\n",
       "      <td>0</td>\n",
       "    </tr>\n",
       "  </tbody>\n",
       "</table>\n",
       "<p>5 rows × 118 columns</p>\n",
       "</div>"
      ],
      "text/plain": [
       "   cap-shape_b  cap-shape_c  cap-shape_f  cap-shape_k  cap-shape_s  \\\n",
       "0            0            0            0            0            0   \n",
       "1            0            0            1            0            0   \n",
       "2            0            0            0            0            0   \n",
       "3            0            0            1            0            0   \n",
       "4            0            0            0            0            0   \n",
       "\n",
       "   cap-shape_x  cap-surface_f  cap-surface_g  cap-surface_s  cap-surface_y  \\\n",
       "0            1              1              0              0              0   \n",
       "1            0              0              0              1              0   \n",
       "2            1              1              0              0              0   \n",
       "3            0              0              0              0              1   \n",
       "4            1              0              0              0              1   \n",
       "\n",
       "   ...  population_v  population_y  habitat_d  habitat_g  habitat_l  \\\n",
       "0  ...             0             0          1          0          0   \n",
       "1  ...             1             0          0          0          1   \n",
       "2  ...             0             0          0          1          0   \n",
       "3  ...             0             1          1          0          0   \n",
       "4  ...             0             0          0          0          0   \n",
       "\n",
       "   habitat_m  habitat_p  habitat_u  habitat_w  class  \n",
       "0          0          0          0          0      1  \n",
       "1          0          0          0          0      0  \n",
       "2          0          0          0          0      0  \n",
       "3          0          0          0          0      0  \n",
       "4          1          0          0          0      0  \n",
       "\n",
       "[5 rows x 118 columns]"
      ]
     },
     "execution_count": 70,
     "metadata": {},
     "output_type": "execute_result"
    }
   ],
   "source": [
    "train_df.head()"
   ]
  },
  {
   "cell_type": "code",
   "execution_count": 82,
   "metadata": {},
   "outputs": [],
   "source": [
    "forest = random_forest(train_df,n=25,m=80,d=6)"
   ]
  },
  {
   "cell_type": "code",
   "execution_count": 86,
   "metadata": {},
   "outputs": [
    {
     "data": {
      "text/plain": [
       "1.0"
      ]
     },
     "execution_count": 86,
     "metadata": {},
     "output_type": "execute_result"
    }
   ],
   "source": [
    "forest_accuracy(val_df,forest)"
   ]
  },
  {
   "cell_type": "code",
   "execution_count": 87,
   "metadata": {},
   "outputs": [],
   "source": [
    "def forest_prediction(df, forest):\n",
    "    \n",
    "    prediction = pd.DataFrame()\n",
    "    for i in range(len(forest)):\n",
    "        \n",
    "        tree = forest[i]\n",
    "        #Prediction using a tree in the forest\n",
    "        prediction[i] = (df.apply(classify_example, args=(tree,), axis=1))\n",
    "\n",
    "    #Calculate number of zeros voted amongst all trees        \n",
    "    no_columns = prediction.shape[1]\n",
    "    number_of_zeros = no_columns - prediction.apply(sum, axis=1)\n",
    "    \n",
    "    #Check majority vote: Predict 1 if Pr(0) < 0.5 or Number of zeros is less than half the total population\n",
    "    final_prediction = (number_of_zeros < (no_columns/2)).astype(int)\n",
    "    #accuracy_bool = final_prediction == df[\"class\"].values\n",
    "    \n",
    "    return final_prediction"
   ]
  },
  {
   "cell_type": "code",
   "execution_count": 95,
   "metadata": {},
   "outputs": [],
   "source": [
    "prediction2 = forest_prediction(test_df,forest)"
   ]
  },
  {
   "cell_type": "code",
   "execution_count": 103,
   "metadata": {},
   "outputs": [],
   "source": [
    "np.savetxt(\"./pa3test1.csv\", prediction2.astype(int), delimiter=\",\")"
   ]
  },
  {
   "cell_type": "code",
   "execution_count": 101,
   "metadata": {},
   "outputs": [
    {
     "data": {
      "text/plain": [
       "757"
      ]
     },
     "execution_count": 101,
     "metadata": {},
     "output_type": "execute_result"
    }
   ],
   "source": [
    "sum(prediction2)"
   ]
  },
  {
   "cell_type": "code",
   "execution_count": 99,
   "metadata": {},
   "outputs": [
    {
     "data": {
      "text/plain": [
       "757"
      ]
     },
     "execution_count": 99,
     "metadata": {},
     "output_type": "execute_result"
    }
   ],
   "source": [
    "sum(prediction1)"
   ]
  },
  {
   "cell_type": "code",
   "execution_count": 125,
   "metadata": {},
   "outputs": [],
   "source": [
    "pred = pd.read_csv(\"./pa3test.csv\", header=None)"
   ]
  },
  {
   "cell_type": "code",
   "execution_count": 131,
   "metadata": {},
   "outputs": [
    {
     "data": {
      "text/plain": [
       "0       True\n",
       "1       True\n",
       "2       True\n",
       "3       True\n",
       "4       True\n",
       "5       True\n",
       "6       True\n",
       "7       True\n",
       "8       True\n",
       "9       True\n",
       "10      True\n",
       "11      True\n",
       "12      True\n",
       "13      True\n",
       "14      True\n",
       "15      True\n",
       "16      True\n",
       "17      True\n",
       "18      True\n",
       "19      True\n",
       "20      True\n",
       "21      True\n",
       "22      True\n",
       "23      True\n",
       "24      True\n",
       "25      True\n",
       "26      True\n",
       "27      True\n",
       "28      True\n",
       "29      True\n",
       "        ... \n",
       "1595    True\n",
       "1596    True\n",
       "1597    True\n",
       "1598    True\n",
       "1599    True\n",
       "1600    True\n",
       "1601    True\n",
       "1602    True\n",
       "1603    True\n",
       "1604    True\n",
       "1605    True\n",
       "1606    True\n",
       "1607    True\n",
       "1608    True\n",
       "1609    True\n",
       "1610    True\n",
       "1611    True\n",
       "1612    True\n",
       "1613    True\n",
       "1614    True\n",
       "1615    True\n",
       "1616    True\n",
       "1617    True\n",
       "1618    True\n",
       "1619    True\n",
       "1620    True\n",
       "1621    True\n",
       "1622    True\n",
       "1623    True\n",
       "1624    True\n",
       "Length: 1625, dtype: bool"
      ]
     },
     "execution_count": 131,
     "metadata": {},
     "output_type": "execute_result"
    }
   ],
   "source": [
    "pred[0] == prediction1"
   ]
  },
  {
   "cell_type": "code",
   "execution_count": 114,
   "metadata": {},
   "outputs": [
    {
     "data": {
      "text/plain": [
       "1625"
      ]
     },
     "execution_count": 114,
     "metadata": {},
     "output_type": "execute_result"
    }
   ],
   "source": [
    "len(prediction1)"
   ]
  },
  {
   "cell_type": "code",
   "execution_count": 117,
   "metadata": {},
   "outputs": [
    {
     "data": {
      "text/plain": [
       "1625"
      ]
     },
     "execution_count": 117,
     "metadata": {},
     "output_type": "execute_result"
    }
   ],
   "source": [
    "len(pred)"
   ]
  },
  {
   "cell_type": "code",
   "execution_count": 124,
   "metadata": {},
   "outputs": [
    {
     "data": {
      "text/plain": [
       "1625"
      ]
     },
     "execution_count": 124,
     "metadata": {},
     "output_type": "execute_result"
    }
   ],
   "source": [
    "(pred.iloc[:,0] == prediction1)"
   ]
  },
  {
   "cell_type": "code",
   "execution_count": null,
   "metadata": {},
   "outputs": [],
   "source": []
  }
 ],
 "metadata": {
  "kernelspec": {
   "display_name": "Python 3",
   "language": "python",
   "name": "python3"
  },
  "language_info": {
   "codemirror_mode": {
    "name": "ipython",
    "version": 3
   },
   "file_extension": ".py",
   "mimetype": "text/x-python",
   "name": "python",
   "nbconvert_exporter": "python",
   "pygments_lexer": "ipython3",
   "version": "3.6.4"
  }
 },
 "nbformat": 4,
 "nbformat_minor": 2
}
